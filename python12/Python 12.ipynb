{
 "cells": [
  {
   "cell_type": "code",
   "execution_count": 12,
   "id": "5779bbd1",
   "metadata": {},
   "outputs": [],
   "source": [
    "import pandas as pd"
   ]
  },
  {
   "cell_type": "code",
   "execution_count": 13,
   "id": "fc853677",
   "metadata": {},
   "outputs": [
    {
     "data": {
      "text/plain": [
       "13    2019-01-02 08:57:36\n",
       "28    2019-01-04 13:59:42\n",
       "150   2019-01-16 21:54:22\n",
       "188   2019-01-21 18:34:44\n",
       "204   2019-01-22 05:26:59\n",
       "Name: time, dtype: datetime64[ns]"
      ]
     },
     "execution_count": 13,
     "metadata": {},
     "output_type": "execute_result"
    }
   ],
   "source": [
    "log = pd.read_csv(\"log.csv\")  \n",
    "log = log.dropna()  \n",
    "log.columns = ['user_id', 'time', 'bet', 'win']  \n",
    "log['time'] = log['time'].apply(lambda x: x[1:])  \n",
    "log['time'] = pd.to_datetime(log['time'])  \n",
    "# Пропущенная строка  \n",
    "log['time'].head()"
   ]
  },
  {
   "cell_type": "code",
   "execution_count": 25,
   "id": "f5404596",
   "metadata": {},
   "outputs": [
    {
     "ename": "SyntaxError",
     "evalue": "invalid non-printable character U+00A0 (855218041.py, line 1)",
     "output_type": "error",
     "traceback": [
      "\u001b[1;36m  Input \u001b[1;32mIn [25]\u001b[1;36m\u001b[0m\n\u001b[1;33m    year_column = log['time'].apply(lambda x: x.year)\u001b[0m\n\u001b[1;37m               ^\u001b[0m\n\u001b[1;31mSyntaxError\u001b[0m\u001b[1;31m:\u001b[0m invalid non-printable character U+00A0\n"
     ]
    }
   ],
   "source": [
    "year_column = log['time'].apply(lambda x: x.year)"
   ]
  },
  {
   "cell_type": "code",
   "execution_count": 15,
   "id": "e974a784",
   "metadata": {},
   "outputs": [
    {
     "ename": "SyntaxError",
     "evalue": "invalid non-printable character U+00A0 (182499243.py, line 1)",
     "output_type": "error",
     "traceback": [
      "\u001b[1;36m  Input \u001b[1;32mIn [15]\u001b[1;36m\u001b[0m\n\u001b[1;33m    year_column = log['time'].dt.year\u001b[0m\n\u001b[1;37m               ^\u001b[0m\n\u001b[1;31mSyntaxError\u001b[0m\u001b[1;31m:\u001b[0m invalid non-printable character U+00A0\n"
     ]
    }
   ],
   "source": [
    "year_column = log['time'].dt.year"
   ]
  },
  {
   "cell_type": "code",
   "execution_count": 16,
   "id": "385922d8",
   "metadata": {},
   "outputs": [
    {
     "data": {
      "text/plain": [
       "1    3\n",
       "4    2\n",
       "2    1\n",
       "3    1\n",
       "dtype: int64"
      ]
     },
     "execution_count": 16,
     "metadata": {},
     "output_type": "execute_result"
    }
   ],
   "source": [
    "test = pd.Series([1, 1, 1, 2, 3, 4, 4])  \n",
    "test.value_counts()"
   ]
  },
  {
   "cell_type": "code",
   "execution_count": 17,
   "id": "b4bcb9fa",
   "metadata": {},
   "outputs": [],
   "source": [
    "# ваш код здесь\n",
    "log = pd.read_csv('log.csv',header=None)\n",
    "log.columns = ['user_id', 'time', 'bet', 'win']\n",
    "log=log.dropna()\n",
    "def code(time):\n",
    "    if type(time) != float:\n",
    "        return time.replace(\"[\",\"\")\n",
    "log.time=log.time.apply(code)\n",
    "log.time = pd.to_datetime(log.time)\n",
    "log['hour'] = log.time.dt.hour"
   ]
  },
  {
   "cell_type": "code",
   "execution_count": 18,
   "id": "95f99ff8",
   "metadata": {},
   "outputs": [
    {
     "data": {
      "text/plain": [
       "14      145732.0\n",
       "29     1678321.0\n",
       "151        100.0\n",
       "189        200.0\n",
       "205        300.0\n",
       "         ...    \n",
       "967       1000.0\n",
       "971      10554.0\n",
       "972      10354.0\n",
       "976      10354.0\n",
       "991        800.0\n",
       "Name: bet, Length: 133, dtype: float64"
      ]
     },
     "execution_count": 18,
     "metadata": {},
     "output_type": "execute_result"
    }
   ],
   "source": [
    "log['bet'].fillna(0)"
   ]
  },
  {
   "cell_type": "code",
   "execution_count": 19,
   "id": "d28ace4b",
   "metadata": {},
   "outputs": [
    {
     "ename": "IndentationError",
     "evalue": "expected an indented block (2855611545.py, line 5)",
     "output_type": "error",
     "traceback": [
      "\u001b[1;36m  Input \u001b[1;32mIn [19]\u001b[1;36m\u001b[0m\n\u001b[1;33m    new_win = log.apply(lambda row: fillna_win(row), axis=1)\u001b[0m\n\u001b[1;37m    ^\u001b[0m\n\u001b[1;31mIndentationError\u001b[0m\u001b[1;31m:\u001b[0m expected an indented block\n"
     ]
    }
   ],
   "source": [
    "def fillna_win(row):  \n",
    "\t# Нужно дописать  \n",
    "      \n",
    "# Применяем функцию  \n",
    "new_win = log.apply(lambda row: fillna_win(row), axis=1)  \n",
    "      \n",
    "# Заменяем старый столбец с пропусками на новый без пропусков  \n",
    "log['win'] = new_win"
   ]
  },
  {
   "cell_type": "code",
   "execution_count": 20,
   "id": "7086994b",
   "metadata": {},
   "outputs": [
    {
     "ename": "SyntaxError",
     "evalue": "invalid non-printable character U+00A0 (2226688295.py, line 1)",
     "output_type": "error",
     "traceback": [
      "\u001b[1;36m  Input \u001b[1;32mIn [20]\u001b[1;36m\u001b[0m\n\u001b[1;33m    log['net'] = # здесь должен быть код, создающий новый признак\u001b[0m\n\u001b[1;37m              ^\u001b[0m\n\u001b[1;31mSyntaxError\u001b[0m\u001b[1;31m:\u001b[0m invalid non-printable character U+00A0\n"
     ]
    }
   ],
   "source": [
    "log['net'] = # здесь должен быть код, создающий новый признак"
   ]
  },
  {
   "cell_type": "code",
   "execution_count": 21,
   "id": "570f33d2",
   "metadata": {},
   "outputs": [
    {
     "ename": "NameError",
     "evalue": "name 'us' is not defined",
     "output_type": "error",
     "traceback": [
      "\u001b[1;31m---------------------------------------------------------------------------\u001b[0m",
      "\u001b[1;31mNameError\u001b[0m                                 Traceback (most recent call last)",
      "Input \u001b[1;32mIn [21]\u001b[0m, in \u001b[0;36m<cell line: 2>\u001b[1;34m()\u001b[0m\n\u001b[0;32m      1\u001b[0m \u001b[38;5;66;03m# Приведем признак user_id к одному формату в обоих датасетах  \u001b[39;00m\n\u001b[1;32m----> 2\u001b[0m us\u001b[38;5;241m.\u001b[39muser_id \u001b[38;5;241m=\u001b[39m \u001b[43mus\u001b[49m\u001b[38;5;241m.\u001b[39muser_id\u001b[38;5;241m.\u001b[39mapply(\u001b[38;5;28;01mlambda\u001b[39;00m x: x\u001b[38;5;241m.\u001b[39mlower())  \n\u001b[0;32m      3\u001b[0m \u001b[38;5;66;03m# Избавимся от ошибок в user_id  \u001b[39;00m\n\u001b[0;32m      4\u001b[0m log \u001b[38;5;241m=\u001b[39m log[log\u001b[38;5;241m.\u001b[39muser_id \u001b[38;5;241m!=\u001b[39m \u001b[38;5;124m'\u001b[39m\u001b[38;5;124m#error\u001b[39m\u001b[38;5;124m'\u001b[39m]  \n",
      "\u001b[1;31mNameError\u001b[0m: name 'us' is not defined"
     ]
    }
   ],
   "source": [
    "# Приведем признак user_id к одному формату в обоих датасетах  \n",
    "us.user_id = us.user_id.apply(lambda x: x.lower())  \n",
    "# Избавимся от ошибок в user_id  \n",
    "log = log[log.user_id != '#error']  \n",
    "log.user_id = log.user_id.str.split(' - ').apply(lambda x: x[1])"
   ]
  },
  {
   "cell_type": "code",
   "execution_count": 22,
   "id": "ed70f80e",
   "metadata": {},
   "outputs": [
    {
     "ename": "SyntaxError",
     "evalue": "invalid non-printable character U+00A0 (1952760074.py, line 1)",
     "output_type": "error",
     "traceback": [
      "\u001b[1;36m  Input \u001b[1;32mIn [22]\u001b[1;36m\u001b[0m\n\u001b[1;33m    pd.merge(dataframe1, dataframe2, on='feature_name')\u001b[0m\n\u001b[1;37m                        ^\u001b[0m\n\u001b[1;31mSyntaxError\u001b[0m\u001b[1;31m:\u001b[0m invalid non-printable character U+00A0\n"
     ]
    }
   ],
   "source": [
    "pd.merge(dataframe1, dataframe2, on='feature_name')"
   ]
  },
  {
   "cell_type": "code",
   "execution_count": 23,
   "id": "70da0097",
   "metadata": {},
   "outputs": [
    {
     "ename": "NameError",
     "evalue": "name 'df' is not defined",
     "output_type": "error",
     "traceback": [
      "\u001b[1;31m---------------------------------------------------------------------------\u001b[0m",
      "\u001b[1;31mNameError\u001b[0m                                 Traceback (most recent call last)",
      "Input \u001b[1;32mIn [23]\u001b[0m, in \u001b[0;36m<cell line: 1>\u001b[1;34m()\u001b[0m\n\u001b[1;32m----> 1\u001b[0m \u001b[43mdf\u001b[49m\u001b[38;5;241m.\u001b[39mgroupby(\u001b[38;5;124m'\u001b[39m\u001b[38;5;124muser_id\u001b[39m\u001b[38;5;124m'\u001b[39m)\u001b[38;5;241m.\u001b[39mwin\u001b[38;5;241m.\u001b[39mmedian()\u001b[38;5;241m.\u001b[39mmedian()\n",
      "\u001b[1;31mNameError\u001b[0m: name 'df' is not defined"
     ]
    }
   ],
   "source": [
    "df.groupby('user_id').win.median().median()"
   ]
  },
  {
   "cell_type": "code",
   "execution_count": 24,
   "id": "d3709dc7",
   "metadata": {},
   "outputs": [],
   "source": [
    "log = pd.read_csv('log.csv', header=None)\n",
    "log.columns = ['user_id','time','bet','win']\n",
    "log['bet'].fillna(0).value_counts()\n",
    "def fillna_win(row):  \n",
    "    #print(-row['bet'])\n",
    "    if row['bet'] != row['bet']:\n",
    "        row['bet'] = 0\n",
    "        row['win'] = 0\n",
    "    if (row['win'] != row['win']) & (row['bet'] != 0):\n",
    "        row['win'] = -row['bet']\n",
    "    if row['bet'] != row['bet']:\n",
    "        row['win'] = 0\n",
    "    return row\n",
    "  \n",
    "# Применяем функцию  \n",
    "\n",
    "log = log.apply(lambda row: fillna_win(row), axis=1)  \n",
    "def calculate_net(row):  \n",
    "    net = row['win'] - row['bet']\n",
    "    if row['win'] < 0:\n",
    "        net = row['win']\n",
    "\n",
    "    return net\n",
    "\n",
    "def code(time):\n",
    "    if type(time) != float:\n",
    "        return time.replace(\"[\",\"\")\n",
    "log.time=log.time.apply(code)\n",
    "\n",
    "# Применяем функцию  \n",
    "\n",
    "log['net'] = log.apply(lambda row: calculate_net(row), axis=1)\n",
    "\n",
    "users = pd.read_csv('users.csv', sep ='\\t' ,encoding = 'KOI8-R')\n",
    "users.columns = ['user_id','mail','geo']\n",
    "# Избавимся от ошибок в user_id  \n",
    "users.user_id = users.user_id.apply(lambda x: x.lower())  \n",
    "log = log[log.user_id != '#error']  \n",
    "log.user_id = log.user_id.str.split(' - ').apply(lambda x: x[1]) \n",
    "\n",
    "df = pd.merge(log,users,on='user_id')\n",
    "sample2 = df.groupby('geo').bet.count()"
   ]
  },
  {
   "cell_type": "code",
   "execution_count": null,
   "id": "71c3240c",
   "metadata": {},
   "outputs": [],
   "source": []
  }
 ],
 "metadata": {
  "kernelspec": {
   "display_name": "Python 3 (ipykernel)",
   "language": "python",
   "name": "python3"
  },
  "language_info": {
   "codemirror_mode": {
    "name": "ipython",
    "version": 3
   },
   "file_extension": ".py",
   "mimetype": "text/x-python",
   "name": "python",
   "nbconvert_exporter": "python",
   "pygments_lexer": "ipython3",
   "version": "3.9.12"
  }
 },
 "nbformat": 4,
 "nbformat_minor": 5
}
